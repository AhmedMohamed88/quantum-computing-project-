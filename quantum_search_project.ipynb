{
 "cells": [
  {
   "cell_type": "markdown",
   "id": "697860a3",
   "metadata": {},
   "source": [
    "# Quantum Search Algorithms Project using Qiskit"
   ]
  },
  {
   "cell_type": "markdown",
   "id": "6280c3ee",
   "metadata": {},
   "source": [
    "## 1. Setup Environment and Import Required Libraries"
   ]
  },
  {
   "cell_type": "code",
   "execution_count": null,
   "id": "10b511a5",
   "metadata": {},
   "outputs": [],
   "source": [
    "# Install Qiskit if not already installed\n",
    "# !pip install qiskit qiskit[visualization]\n",
    "\n",
    "from qiskit import QuantumCircuit, Aer, execute\n",
    "from qiskit.visualization import plot_histogram\n",
    "import matplotlib.pyplot as plt\n",
    "from qiskit.algorithms import Grover, AmplificationProblem"
   ]
  },
  {
   "cell_type": "markdown",
   "id": "a04c6d17",
   "metadata": {},
   "source": [
    "## 2. Classical Baselines"
   ]
  },
  {
   "cell_type": "code",
   "execution_count": null,
   "id": "610509ae",
   "metadata": {},
   "outputs": [],
   "source": [
    "def classical_linear_search(lst, target):\n",
    "    for i, item in enumerate(lst):\n",
    "        if item == target:\n",
    "            return i\n",
    "    return -1\n",
    "\n",
    "# Test classical linear search\n",
    "items = ['a', 'b', 'c', 'd', 'target', 'e']\n",
    "print(\"Classical index found:\", classical_linear_search(items, 'target'))"
   ]
  },
  {
   "cell_type": "code",
   "execution_count": null,
   "id": "1153e94c",
   "metadata": {},
   "outputs": [],
   "source": [
    "def is_balanced_or_constant(classical_f, n):\n",
    "    results = [classical_f(x) for x in range(2**n)]\n",
    "    if all(r == results[0] for r in results):\n",
    "        return \"Constant\"\n",
    "    elif results.count(0) == results.count(1):\n",
    "        return \"Balanced\"\n",
    "    else:\n",
    "        return \"Neither\"\n"
   ]
  },
  {
   "cell_type": "markdown",
   "id": "21e4e910",
   "metadata": {},
   "source": [
    "## 3. Deutsch-Jozsa Algorithm"
   ]
  },
  {
   "cell_type": "code",
   "execution_count": null,
   "id": "7cdeea28",
   "metadata": {},
   "outputs": [],
   "source": [
    "def deutsch_jozsa(oracle, n):\n",
    "    qc = QuantumCircuit(n + 1, n)\n",
    "    qc.x(n)\n",
    "    qc.h(range(n + 1))\n",
    "    qc.compose(oracle, inplace=True)\n",
    "    qc.h(range(n))\n",
    "    qc.measure(range(n), range(n))\n",
    "    return qc"
   ]
  },
  {
   "cell_type": "code",
   "execution_count": null,
   "id": "109ba2ba",
   "metadata": {},
   "outputs": [],
   "source": [
    "def balanced_oracle(n):\n",
    "    qc = QuantumCircuit(n + 1)\n",
    "    for i in range(n):\n",
    "        qc.cx(i, n)\n",
    "    return qc"
   ]
  },
  {
   "cell_type": "code",
   "execution_count": null,
   "id": "95033a08",
   "metadata": {},
   "outputs": [],
   "source": [
    "def constant_oracle(n):\n",
    "    qc = QuantumCircuit(n + 1)\n",
    "    return qc"
   ]
  },
  {
   "cell_type": "code",
   "execution_count": null,
   "id": "425cac1f",
   "metadata": {},
   "outputs": [],
   "source": [
    "oracle = balanced_oracle(3)  # You can try constant_oracle(3) too\n",
    "qc_dj = deutsch_jozsa(oracle, 3)\n",
    "qc_dj.draw('mpl')"
   ]
  },
  {
   "cell_type": "code",
   "execution_count": null,
   "id": "66f356dc",
   "metadata": {},
   "outputs": [],
   "source": [
    "sim = Aer.get_backend('qasm_simulator')\n",
    "result_dj = execute(qc_dj, backend=sim, shots=1024).result()\n",
    "counts_dj = result_dj.get_counts()\n",
    "plot_histogram(counts_dj)\n",
    "plt.show()"
   ]
  },
  {
   "cell_type": "markdown",
   "id": "fa54cf6a",
   "metadata": {},
   "source": [
    "## 4. Grover's Algorithm"
   ]
  },
  {
   "cell_type": "code",
   "execution_count": null,
   "id": "a01dc693",
   "metadata": {},
   "outputs": [],
   "source": [
    "def create_oracle(n, marked_element):\n",
    "    oracle = QuantumCircuit(n)\n",
    "    binary = format(marked_element, f'0{n}b')\n",
    "    for i, bit in enumerate(binary):\n",
    "        if bit == '0':\n",
    "            oracle.x(i)\n",
    "    oracle.h(n - 1)\n",
    "    if n == 3:\n",
    "        oracle.ccx(0, 1, 2)\n",
    "    oracle.h(n - 1)\n",
    "    for i, bit in enumerate(binary):\n",
    "        if bit == '0':\n",
    "            oracle.x(i)\n",
    "    oracle_gate = oracle.to_gate()\n",
    "    oracle_gate.name = \"Oracle\"\n",
    "    return oracle_gate"
   ]
  },
  {
   "cell_type": "code",
   "execution_count": null,
   "id": "a99c522a",
   "metadata": {},
   "outputs": [],
   "source": [
    "def grover_search(marked_element, n=3):\n",
    "    oracle_gate = create_oracle(n, marked_element)\n",
    "    problem = AmplificationProblem(oracle=oracle_gate, is_good_state=lambda x: x == format(marked_element, f'0{n}b'))\n",
    "    grover = Grover()\n",
    "    result = grover.amplify(problem)\n",
    "    print(\"Grover result:\", result.assignment)\n",
    "\n",
    "grover_search(5)"
   ]
  },
  {
   "cell_type": "markdown",
   "id": "34178c7d",
   "metadata": {},
   "source": [
    "## 5. Analysis and Report\n",
    "- Compare runtime and complexity.\n",
    "- Discuss quantum speedup, decoherence, and circuit depth.\n",
    "- Document your results for presentation and reporting."
   ]
  }
 ],
 "metadata": {},
 "nbformat": 4,
 "nbformat_minor": 5
}
